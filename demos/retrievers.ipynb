{
 "cells": [
  {
   "metadata": {},
   "cell_type": "markdown",
   "source": "# 增强检索\n",
   "id": "558e58fe83458c22"
  },
  {
   "metadata": {},
   "cell_type": "markdown",
   "source": "## 文档",
   "id": "57ff2c6ac4615e33"
  },
  {
   "metadata": {
    "ExecuteTime": {
     "end_time": "2024-06-07T06:45:20.217180Z",
     "start_time": "2024-06-07T06:45:20.089999Z"
    }
   },
   "cell_type": "code",
   "source": [
    "from langchain_core.documents import Document\n",
    "\n",
    "\n",
    "# LangChain 实现了Document抽象，旨在表示文本单元和相关元数据。它具有两个属性：\n",
    "\n",
    "# page_content：代表内容的字符串；\n",
    "# metadata：包含任意元数据的字典。\n",
    "documents = [\n",
    "    Document(\n",
    "        page_content=\"Dogs are great companions, known for their loyalty and friendliness.\",\n",
    "        metadata={\"source\": \"mammal-pets-doc\"},\n",
    "    ),\n",
    "    Document(\n",
    "        page_content=\"Cats are independent pets that often enjoy their own space.\",\n",
    "        metadata={\"source\": \"mammal-pets-doc\"},\n",
    "    ),\n",
    "    Document(\n",
    "        page_content=\"Goldfish are popular pets for beginners, requiring relatively simple care.\",\n",
    "        metadata={\"source\": \"fish-pets-doc\"},\n",
    "    ),\n",
    "    Document(\n",
    "        page_content=\"Parrots are intelligent birds capable of mimicking human speech.\",\n",
    "        metadata={\"source\": \"bird-pets-doc\"},\n",
    "    ),\n",
    "    Document(\n",
    "        page_content=\"Rabbits are social animals that need plenty of space to hop around.\",\n",
    "        metadata={\"source\": \"mammal-pets-doc\"},\n",
    "    ),\n",
    "]\n"
   ],
   "id": "693dc89ac4ff7127",
   "outputs": [],
   "execution_count": 1
  },
  {
   "metadata": {
    "ExecuteTime": {
     "end_time": "2024-06-07T06:45:21.659663Z",
     "start_time": "2024-06-07T06:45:21.656814Z"
    }
   },
   "cell_type": "code",
   "source": [
    "import getpass\n",
    "import os\n",
    "\n",
    "os.environ[\"LANGCHAIN_TRACING_V2\"] = \"true\"\n",
    "os.environ[\"LANGCHAIN_API_KEY\"] = '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'"
   ],
   "id": "initial_id",
   "outputs": [],
   "execution_count": 2
  },
  {
   "metadata": {},
   "cell_type": "markdown",
   "source": [
    "## 向量\n",
    "LangChain VectorStore对象包含用于将文本和Document对象添加到存储区以及使用各种相似度指标查询它们的方法。它们通常使用嵌入模型进行初始化，这些模型决定了如何将文本数据转换为数字向量。\n",
    "要实例化向量存储，我们通常需要提供一个嵌入模型来指定如何将文本转换为数字向量。这里我们将使用OpenAI 嵌入。"
   ],
   "id": "eb291329c8c4926b"
  },
  {
   "metadata": {
    "ExecuteTime": {
     "end_time": "2024-06-07T06:45:25.364691Z",
     "start_time": "2024-06-07T06:45:22.723604Z"
    }
   },
   "cell_type": "code",
   "source": [
    "from langchain_chroma import Chroma\n",
    "from langchain_openai import OpenAIEmbeddings\n",
    "\n",
    "vectorstore = Chroma.from_documents(\n",
    "    documents,\n",
    "    embedding=OpenAIEmbeddings(),\n",
    ")"
   ],
   "id": "e12458d80a296847",
   "outputs": [],
   "execution_count": 3
  },
  {
   "metadata": {},
   "cell_type": "markdown",
   "source": [
    "调用.from_documents此处会将文档添加到向量存储中。VectorStore实现了添加文档的方法，这些方法也可以在对象实例化后调用。大多数实现将允许您连接到现有的向量存储 - 例如，通过提供客户端、索引名称或其他信息。有关更多详细信息，请参阅特定集成的文档。\n",
    "VectorStore包含查询方法：\n",
    "\n",
    "同步和异步；\n",
    "通过字符串查询和通过向量；\n",
    "返回和不返回相似度分数；\n",
    "通过相似性和最大边际相关性（平衡查询的相似性和检索结果的多样性）。"
   ],
   "id": "9484a308c5b6f1ab"
  },
  {
   "metadata": {
    "ExecuteTime": {
     "end_time": "2024-06-07T06:45:27.824678Z",
     "start_time": "2024-06-07T06:45:27.401462Z"
    }
   },
   "cell_type": "code",
   "source": [
    "# 根据与字符串查询的相似性返回文档：\n",
    "vectorstore.similarity_search(\"cat\")"
   ],
   "id": "a5c9419f7eb5224d",
   "outputs": [
    {
     "data": {
      "text/plain": [
       "[Document(page_content='Cats are independent pets that often enjoy their own space.', metadata={'source': 'mammal-pets-doc'}),\n",
       " Document(page_content='Dogs are great companions, known for their loyalty and friendliness.', metadata={'source': 'mammal-pets-doc'}),\n",
       " Document(page_content='Rabbits are social animals that need plenty of space to hop around.', metadata={'source': 'mammal-pets-doc'}),\n",
       " Document(page_content='Parrots are intelligent birds capable of mimicking human speech.', metadata={'source': 'bird-pets-doc'})]"
      ]
     },
     "execution_count": 4,
     "metadata": {},
     "output_type": "execute_result"
    }
   ],
   "execution_count": 4
  },
  {
   "metadata": {
    "ExecuteTime": {
     "end_time": "2024-06-07T06:47:00.094181Z",
     "start_time": "2024-06-07T06:46:58.514060Z"
    }
   },
   "cell_type": "code",
   "source": [
    "# 异步查询：\n",
    "await vectorstore.asimilarity_search(\"cat\")"
   ],
   "id": "ade1f4830c4a6da4",
   "outputs": [
    {
     "data": {
      "text/plain": [
       "[Document(page_content='Cats are independent pets that often enjoy their own space.', metadata={'source': 'mammal-pets-doc'}),\n",
       " Document(page_content='Dogs are great companions, known for their loyalty and friendliness.', metadata={'source': 'mammal-pets-doc'}),\n",
       " Document(page_content='Rabbits are social animals that need plenty of space to hop around.', metadata={'source': 'mammal-pets-doc'}),\n",
       " Document(page_content='Parrots are intelligent birds capable of mimicking human speech.', metadata={'source': 'bird-pets-doc'})]"
      ]
     },
     "execution_count": 6,
     "metadata": {},
     "output_type": "execute_result"
    }
   ],
   "execution_count": 6
  },
  {
   "metadata": {
    "ExecuteTime": {
     "end_time": "2024-06-07T06:47:46.514448Z",
     "start_time": "2024-06-07T06:47:44.870042Z"
    }
   },
   "cell_type": "code",
   "source": [
    "# 返回分数：\n",
    "vectorstore.similarity_search_with_score(\"cats\")"
   ],
   "id": "7ef208c2b197dbbc",
   "outputs": [
    {
     "data": {
      "text/plain": [
       "[(Document(page_content='Cats are independent pets that often enjoy their own space.', metadata={'source': 'mammal-pets-doc'}),\n",
       "  0.29831886291503906),\n",
       " (Document(page_content='Dogs are great companions, known for their loyalty and friendliness.', metadata={'source': 'mammal-pets-doc'}),\n",
       "  0.3977105915546417),\n",
       " (Document(page_content='Rabbits are social animals that need plenty of space to hop around.', metadata={'source': 'mammal-pets-doc'}),\n",
       "  0.4190572202205658),\n",
       " (Document(page_content='Goldfish are popular pets for beginners, requiring relatively simple care.', metadata={'source': 'fish-pets-doc'}),\n",
       "  0.4271949827671051)]"
      ]
     },
     "execution_count": 8,
     "metadata": {},
     "output_type": "execute_result"
    }
   ],
   "execution_count": 8
  },
  {
   "metadata": {
    "ExecuteTime": {
     "end_time": "2024-06-07T06:48:31.548154Z",
     "start_time": "2024-06-07T06:48:29.954799Z"
    }
   },
   "cell_type": "code",
   "source": [
    "# 根据与嵌入式查询的相似性返回文档：\n",
    "\n",
    "embedding = OpenAIEmbeddings().embed_query(\"cat\")\n",
    "\n",
    "vectorstore.similarity_search_by_vector(embedding)"
   ],
   "id": "108b6ae2626682ba",
   "outputs": [
    {
     "data": {
      "text/plain": [
       "[Document(page_content='Cats are independent pets that often enjoy their own space.', metadata={'source': 'mammal-pets-doc'}),\n",
       " Document(page_content='Dogs are great companions, known for their loyalty and friendliness.', metadata={'source': 'mammal-pets-doc'}),\n",
       " Document(page_content='Rabbits are social animals that need plenty of space to hop around.', metadata={'source': 'mammal-pets-doc'}),\n",
       " Document(page_content='Parrots are intelligent birds capable of mimicking human speech.', metadata={'source': 'bird-pets-doc'})]"
      ]
     },
     "execution_count": 9,
     "metadata": {},
     "output_type": "execute_result"
    }
   ],
   "execution_count": 9
  },
  {
   "metadata": {},
   "cell_type": "markdown",
   "source": "LangChainVectorStore对象没有Runnable子类，因此不能立即集成到 LangChain 表达语言链中。",
   "id": "147be11b31e02095"
  },
  {
   "metadata": {
    "ExecuteTime": {
     "end_time": "2024-06-07T06:50:43.634829Z",
     "start_time": "2024-06-07T06:50:42.112513Z"
    }
   },
   "cell_type": "code",
   "source": [
    "from typing import List\n",
    "\n",
    "from langchain_core.documents import Document\n",
    "from langchain_core.runnables import RunnableLambda\n",
    "\n",
    "retriever = RunnableLambda(vectorstore.similarity_search).bind(k=1)  # select top result\n",
    "\n",
    "retriever.batch([\"cat\", \"shark\"])"
   ],
   "id": "13110c0ba54ce485",
   "outputs": [
    {
     "data": {
      "text/plain": [
       "[[Document(page_content='Cats are independent pets that often enjoy their own space.', metadata={'source': 'mammal-pets-doc'})],\n",
       " [Document(page_content='Goldfish are popular pets for beginners, requiring relatively simple care.', metadata={'source': 'fish-pets-doc'})]]"
      ]
     },
     "execution_count": 10,
     "metadata": {},
     "output_type": "execute_result"
    }
   ],
   "execution_count": 10
  },
  {
   "metadata": {},
   "cell_type": "markdown",
   "source": "检索器可以轻松融入更复杂的应用程序，例如检索增强生成 (RAG) 应用程序，该应用程序将给定的问题与检索到的上下文结合到 LLM 提示中。下面我们展示了一个最小示例。",
   "id": "e2e77edef1d93d20"
  },
  {
   "metadata": {
    "ExecuteTime": {
     "end_time": "2024-06-07T06:56:41.435966Z",
     "start_time": "2024-06-07T06:56:41.398856Z"
    }
   },
   "cell_type": "code",
   "source": [
    "import getpass\n",
    "import os\n",
    "\n",
    "from langchain_openai import ChatOpenAI\n",
    "\n",
    "llm = ChatOpenAI(model=\"gpt-3.5-turbo-0125\")"
   ],
   "id": "1dc4c15c5ae06ff0",
   "outputs": [],
   "execution_count": 11
  },
  {
   "metadata": {
    "ExecuteTime": {
     "end_time": "2024-06-07T06:56:42.643304Z",
     "start_time": "2024-06-07T06:56:42.639143Z"
    }
   },
   "cell_type": "code",
   "source": [
    "from langchain_core.prompts import ChatPromptTemplate\n",
    "from langchain_core.runnables import RunnablePassthrough\n",
    "\n",
    "message = \"\"\"\n",
    "Answer this question using the provided context only.\n",
    "\n",
    "{question}\n",
    "\n",
    "Context:\n",
    "{context}\n",
    "\"\"\"\n",
    "\n",
    "prompt = ChatPromptTemplate.from_messages([(\"human\", message)])\n",
    "\n",
    "rag_chain = {\"context\": retriever, \"question\": RunnablePassthrough()} | prompt | llm"
   ],
   "id": "21691d2ee7a264c6",
   "outputs": [],
   "execution_count": 12
  },
  {
   "metadata": {
    "ExecuteTime": {
     "end_time": "2024-06-07T06:56:47.854120Z",
     "start_time": "2024-06-07T06:56:44.204146Z"
    }
   },
   "cell_type": "code",
   "source": [
    "response = rag_chain.invoke(\"tell me about cats\")\n",
    "\n",
    "print(response.content)"
   ],
   "id": "60292e35fe37bdad",
   "outputs": [
    {
     "name": "stdout",
     "output_type": "stream",
     "text": [
      "Cats are independent pets that often enjoy their own space.\n"
     ]
    }
   ],
   "execution_count": 13
  },
  {
   "metadata": {},
   "cell_type": "code",
   "outputs": [],
   "execution_count": null,
   "source": "",
   "id": "9840b2f99660e94e"
  }
 ],
 "metadata": {
  "kernelspec": {
   "display_name": "Python 3",
   "language": "python",
   "name": "python3"
  },
  "language_info": {
   "codemirror_mode": {
    "name": "ipython",
    "version": 2
   },
   "file_extension": ".py",
   "mimetype": "text/x-python",
   "name": "python",
   "nbconvert_exporter": "python",
   "pygments_lexer": "ipython2",
   "version": "2.7.6"
  }
 },
 "nbformat": 4,
 "nbformat_minor": 5
}
